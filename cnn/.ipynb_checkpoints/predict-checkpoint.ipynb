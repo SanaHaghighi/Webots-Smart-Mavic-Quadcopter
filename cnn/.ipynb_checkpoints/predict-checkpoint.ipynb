{
 "cells": [
  {
   "cell_type": "code",
   "execution_count": 1,
   "metadata": {},
   "outputs": [
    {
     "name": "stderr",
     "output_type": "stream",
     "text": [
      "2024-02-01 21:39:47.509096: E external/local_xla/xla/stream_executor/cuda/cuda_dnn.cc:9261] Unable to register cuDNN factory: Attempting to register factory for plugin cuDNN when one has already been registered\n",
      "2024-02-01 21:39:47.509152: E external/local_xla/xla/stream_executor/cuda/cuda_fft.cc:607] Unable to register cuFFT factory: Attempting to register factory for plugin cuFFT when one has already been registered\n",
      "2024-02-01 21:39:47.533166: E external/local_xla/xla/stream_executor/cuda/cuda_blas.cc:1515] Unable to register cuBLAS factory: Attempting to register factory for plugin cuBLAS when one has already been registered\n",
      "2024-02-01 21:39:47.594826: I tensorflow/core/platform/cpu_feature_guard.cc:182] This TensorFlow binary is optimized to use available CPU instructions in performance-critical operations.\n",
      "To enable the following instructions: AVX2 FMA, in other operations, rebuild TensorFlow with the appropriate compiler flags.\n",
      "2024-02-01 21:39:48.760966: W tensorflow/compiler/tf2tensorrt/utils/py_utils.cc:38] TF-TRT Warning: Could not find TensorRT\n"
     ]
    }
   ],
   "source": [
    "import keras\n",
    "import cv2\n",
    "import numpy as np\n",
    "import matplotlib.pyplot as plt\n",
    "from PIL import Image"
   ]
  },
  {
   "cell_type": "code",
   "execution_count": 2,
   "metadata": {},
   "outputs": [],
   "source": [
    "model = keras.models.load_model('../model/location.keras')"
   ]
  },
  {
   "cell_type": "code",
   "execution_count": 3,
   "metadata": {},
   "outputs": [],
   "source": [
    "def predict(sample_images):\n",
    "    # Predict labels\n",
    "    predicted = model.predict(sample_images)\n",
    "    predicted_labels = np.argmax(predicted, axis=1)\n",
    "\n",
    "    class_dict = {0:'T-shirt',1:'pants',2:'pullover',3:'shoes',4:'Bag'}\n",
    "    # Display images and predictions\n",
    "    fig, axes = plt.subplots(1, len(sample_images), figsize=(20, 2))\n",
    "    for i, ax in enumerate(axes):\n",
    "        ax.imshow(sample_images[i].reshape(28, 28), cmap='gray')\n",
    "        ax.set_title(f'{class_dict.get(predicted_labels[i])}')\n",
    "        ax.axis('off')\n",
    "    plt.show()"
   ]
  },
  {
   "cell_type": "code",
   "execution_count": 4,
   "metadata": {},
   "outputs": [],
   "source": [
    "def resize_image(image, new_size):\n",
    "    img_pil = Image.fromarray(image)\n",
    "    img_28x28 = np.array(img_pil.resize(new_size))\n",
    "    return img_28x28"
   ]
  },
  {
   "cell_type": "code",
   "execution_count": 5,
   "metadata": {},
   "outputs": [],
   "source": [
    "n = 5\n",
    "sample_images = []\n",
    "rows_up = [0, 63, 125, 20, 80, 72]\n",
    "rows_down = [0, 44, 0, 90, 25, 30]\n",
    "columns_up = [0, 150, 160, 235, 145, 105]\n",
    "columns_down = [0, 118, 110, 35, 125, 167]\n",
    "\n",
    "def increase_detail(img, img_name):\n",
    "    laplacian_filtered = cv2.Laplacian(img, cv2.CV_64F)\n",
    "    laplacian_filtered = cv2.convertScaleAbs(laplacian_filtered)\n",
    "    enhanced_img = cv2.add(img, laplacian_filtered)\n",
    "    img_new8_1 = enhanced_img.astype(np.uint8)\n",
    "    cv2.imwrite(img_name, img_new8_1)\n",
    "    return img_new8_1\n",
    "\n",
    "\n",
    "for i in range(1, n + 1):\n",
    "    im_gray = cv2.imread(f'../datasets/box{i}/output_image{i}-1.jpg', cv2.IMREAD_GRAYSCALE)\n",
    "    cv2.imwrite(f'../datasets/box{i}/output_image{i}-1_gray_scale.jpg', im_gray)\n",
    "    \n",
    "    height, width = im_gray.shape\n",
    "    im_gray_crop = im_gray[rows_up[i]:height - rows_down[i], columns_up[i]:width - columns_down[i]]\n",
    "    cv2.imwrite(f'../datasets/box{i}/output_image{i}-1_gray_scale_crop.jpg', im_gray_crop)\n",
    "    \n",
    "    min_filtered = cv2.erode(im_gray_crop, None)\n",
    "    img_new1 = min_filtered.astype(np.uint8)\n",
    "    cv2.imwrite(f'../datasets/box{i}/output_image{i}-1_gray_scale_crop_min.jpg', img_new1)\n",
    "    \n",
    "    img_new8_1 = increase_detail(img_new1, f\"../datasets/box{i}/output_image{i}-1_gray_scale_crop_min_lap.jpg\")\n",
    "    \n",
    "    im_gray_crop_resize = resize_image(img_new8_1, (28, 28))\n",
    "    cv2.imwrite(f'../datasets/box{i}/output_image{i}-1_gray_scale_crop_resize.jpg', im_gray_crop_resize)\n",
    "    \n",
    "    sample_images.append(im_gray_crop_resize)"
   ]
  },
  {
   "cell_type": "code",
   "execution_count": 6,
   "metadata": {},
   "outputs": [
    {
     "name": "stdout",
     "output_type": "stream",
     "text": [
      "1/1 [==============================] - 0s 98ms/step\n"
     ]
    },
    {
     "data": {
      "image/png": "[encoded data removed]",
      "text/plain": [
       "<Figure size 2000x200 with 5 Axes>"
      ]
     },
     "metadata": {},
     "output_type": "display_data"
    }
   ],
   "source": [
    "predict(np.array(sample_images))"
   ]
  }
 ],
 "metadata": {
  "kernelspec": {
   "display_name": "Python 3",
   "language": "python",
   "name": "python3"
  },
  "language_info": {
   "codemirror_mode": {
    "name": "ipython",
    "version": 3
   },
   "file_extension": ".py",
   "mimetype": "text/x-python",
   "name": "python",
   "nbconvert_exporter": "python",
   "pygments_lexer": "ipython3",
   "version": "3.11.5"
  }
 },
 "nbformat": 4,
 "nbformat_minor": 2
}
